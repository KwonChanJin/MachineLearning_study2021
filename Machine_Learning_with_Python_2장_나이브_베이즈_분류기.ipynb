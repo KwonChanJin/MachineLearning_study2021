{
  "nbformat": 4,
  "nbformat_minor": 0,
  "metadata": {
    "colab": {
      "name": "Machine Learning with Python 2장 : 나이브 베이즈 분류기",
      "provenance": [],
      "authorship_tag": "ABX9TyPuHq+qDrkJfyIugYlXVxFb",
      "include_colab_link": true
    },
    "kernelspec": {
      "name": "python3",
      "display_name": "Python 3"
    }
  },
  "cells": [
    {
      "cell_type": "markdown",
      "metadata": {
        "id": "view-in-github",
        "colab_type": "text"
      },
      "source": [
        "<a href=\"https://colab.research.google.com/github/KwonChanJin/MachineLearning_study2021/blob/main/Machine_Learning_with_Python_2%EC%9E%A5_%EB%82%98%EC%9D%B4%EB%B8%8C_%EB%B2%A0%EC%9D%B4%EC%A6%88_%EB%B6%84%EB%A5%98%EA%B8%B0.ipynb\" target=\"_parent\"><img src=\"https://colab.research.google.com/assets/colab-badge.svg\" alt=\"Open In Colab\"/></a>"
      ]
    },
    {
      "cell_type": "markdown",
      "metadata": {
        "id": "8Fma5uWJPHbM"
      },
      "source": [
        "##나이브 베이즈 분류기"
      ]
    },
    {
      "cell_type": "code",
      "metadata": {
        "colab": {
          "base_uri": "https://localhost:8080/"
        },
        "id": "h9knJhrFPEbG",
        "outputId": "07d46893-d43f-4e1b-e9d8-75a3ba5ec301"
      },
      "source": [
        "import numpy as np\n",
        "X = np.array([[0, 1, 0, 1],\n",
        "              [1, 0, 1, 1],\n",
        "              [0, 0, 0, 1],\n",
        "              [1, 0, 1, 0]])\n",
        "y = np.array([0, 1, 0, 1])\n",
        "\n",
        "counts = {}\n",
        "for label in np.unique(y):\n",
        "  # 각 클래스에 대해 반복\n",
        "  # 특성마다 1이 나타난 횟수를 센다.\n",
        "  counts[label] = X[y == label].sum(axis=0)\n",
        "print(\"특성 카운트:\\n\", counts)\n"
      ],
      "execution_count": 4,
      "outputs": [
        {
          "output_type": "stream",
          "text": [
            "특성 카운트:\n",
            " {0: array([0, 1, 0, 2]), 1: array([2, 0, 2, 1])}\n"
          ],
          "name": "stdout"
        }
      ]
    }
  ]
}